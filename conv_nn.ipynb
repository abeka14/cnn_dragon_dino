{
  "nbformat": 4,
  "nbformat_minor": 0,
  "metadata": {
    "colab": {
      "provenance": [],
      "gpuType": "T4"
    },
    "kernelspec": {
      "name": "python3",
      "display_name": "Python 3"
    },
    "language_info": {
      "name": "python"
    },
    "accelerator": "GPU"
  },
  "cells": [
    {
      "cell_type": "code",
      "execution_count": null,
      "metadata": {
        "id": "PZ0dq2e3raQV"
      },
      "outputs": [],
      "source": [
        "import tensorflow as tf\n",
        "from tensorflow import keras\n",
        "\n",
        "from tensorflow.keras.models import Sequential\n",
        "from tensorflow.keras.layers import Conv2D, MaxPooling2D, Flatten, Dense, Dropout\n",
        "\n",
        "import numpy as np\n",
        "from tensorflow.keras.preprocessing.image import load_img, ImageDataGenerator\n",
        "\n",
        "from tensorflow.keras.optimizers import SGD"
      ]
    },
    {
      "cell_type": "code",
      "source": [
        "def make_model():\n",
        "  model = Sequential()\n",
        "\n",
        "  model.add(Conv2D(32, (3, 3), activation='relu', input_shape=(150, 150, 3)))\n",
        "  model.add(MaxPooling2D(pool_size=(2, 2)))\n",
        "  model.add(Dropout(0.2))\n",
        "\n",
        "  model.add(Conv2D(64, (3, 3), activation='relu'))\n",
        "  model.add(MaxPooling2D(pool_size=(2, 2)))\n",
        "  model.add(Dropout(0.2))\n",
        "\n",
        "  model.add(Flatten())\n",
        "\n",
        "  model.add(Dense(64, activation='relu'))\n",
        "  model.add(Dropout(0.2))\n",
        "  model.add(Dense(1, activation='sigmoid'))\n",
        "\n",
        "  # Compile the model\n",
        "  optimizer = SGD(learning_rate=0.002, momentum=0.8)\n",
        "  model.compile(optimizer=optimizer, loss=keras.losses.binary_crossentropy, metrics=['accuracy'])\n",
        "\n",
        "  return model"
      ],
      "metadata": {
        "id": "FnMDZxVws6Z3"
      },
      "execution_count": null,
      "outputs": []
    },
    {
      "cell_type": "code",
      "source": [
        "train_gen = ImageDataGenerator(\n",
        "    rescale=1.0/255.0\n",
        ")\n",
        "\n",
        "train_ds = train_gen.flow_from_directory(\n",
        "    '/content/drive/MyDrive/ai_integration/datasets/dino-dragon/train',\n",
        "    target_size=(150, 150),\n",
        "    batch_size=20,\n",
        "    class_mode='binary'\n",
        ")"
      ],
      "metadata": {
        "colab": {
          "base_uri": "https://localhost:8080/"
        },
        "id": "wgkLSuldvzBv",
        "outputId": "070342e8-b399-407b-f5d8-78e89f358ce3"
      },
      "execution_count": null,
      "outputs": [
        {
          "output_type": "stream",
          "name": "stdout",
          "text": [
            "Found 1594 images belonging to 2 classes.\n"
          ]
        }
      ]
    },
    {
      "cell_type": "code",
      "source": [
        "val_gen = ImageDataGenerator()\n",
        "\n",
        "val_ds = val_gen.flow_from_directory(\n",
        "    '/content/drive/MyDrive/ai_integration/datasets/dino-dragon/test',\n",
        "    target_size=(150, 150),\n",
        "    batch_size=20,\n",
        "    shuffle=True,\n",
        "    class_mode='binary'\n",
        ")"
      ],
      "metadata": {
        "colab": {
          "base_uri": "https://localhost:8080/"
        },
        "id": "8xRC1WxAv0g2",
        "outputId": "9e42c159-99dd-4e0e-9ff1-187faaeec693"
      },
      "execution_count": null,
      "outputs": [
        {
          "output_type": "stream",
          "name": "stdout",
          "text": [
            "Found 394 images belonging to 2 classes.\n"
          ]
        }
      ]
    },
    {
      "cell_type": "code",
      "source": [
        "checkpoint = keras.callbacks.ModelCheckpoint(\n",
        "    '/content/drive/MyDrive/ai_integration/models/sequential_2_{epoch:02d}_{val_accuracy:.3f}.h5',\n",
        "    save_best_only=True,\n",
        "    monitor='val_accuracy',\n",
        "    mode='max'\n",
        ")"
      ],
      "metadata": {
        "id": "OWTFRPEIv7M2"
      },
      "execution_count": null,
      "outputs": []
    },
    {
      "cell_type": "code",
      "source": [
        "model = make_model()\n",
        "history = model.fit(train_ds, epochs=10, validation_data=val_ds)"
      ],
      "metadata": {
        "colab": {
          "base_uri": "https://localhost:8080/"
        },
        "id": "to3gIsnyFdKl",
        "outputId": "bb4ee671-cacc-4c59-eccf-6d0f1091e767"
      },
      "execution_count": null,
      "outputs": [
        {
          "output_type": "stream",
          "name": "stdout",
          "text": [
            "Epoch 1/10\n",
            "80/80 [==============================] - 314s 4s/step - loss: 0.6549 - accuracy: 0.6098 - val_loss: 9.4628 - val_accuracy: 0.8046\n",
            "Epoch 2/10\n",
            "80/80 [==============================] - 8s 105ms/step - loss: 0.5349 - accuracy: 0.7516 - val_loss: 15.4712 - val_accuracy: 0.8401\n",
            "Epoch 3/10\n",
            "80/80 [==============================] - 8s 103ms/step - loss: 0.4758 - accuracy: 0.7886 - val_loss: 27.0318 - val_accuracy: 0.8071\n",
            "Epoch 4/10\n",
            "80/80 [==============================] - 8s 106ms/step - loss: 0.4016 - accuracy: 0.8262 - val_loss: 28.8200 - val_accuracy: 0.8223\n",
            "Epoch 5/10\n",
            "80/80 [==============================] - 8s 94ms/step - loss: 0.3774 - accuracy: 0.8463 - val_loss: 39.6855 - val_accuracy: 0.8071\n",
            "Epoch 6/10\n",
            "80/80 [==============================] - 8s 104ms/step - loss: 0.3563 - accuracy: 0.8400 - val_loss: 29.0306 - val_accuracy: 0.8553\n",
            "Epoch 7/10\n",
            "80/80 [==============================] - 7s 91ms/step - loss: 0.3363 - accuracy: 0.8494 - val_loss: 44.8454 - val_accuracy: 0.8249\n",
            "Epoch 8/10\n",
            "80/80 [==============================] - 8s 95ms/step - loss: 0.3246 - accuracy: 0.8607 - val_loss: 39.1300 - val_accuracy: 0.8452\n",
            "Epoch 9/10\n",
            "80/80 [==============================] - 8s 105ms/step - loss: 0.2978 - accuracy: 0.8783 - val_loss: 42.5280 - val_accuracy: 0.8452\n",
            "Epoch 10/10\n",
            "80/80 [==============================] - 7s 91ms/step - loss: 0.2713 - accuracy: 0.8959 - val_loss: 39.3213 - val_accuracy: 0.8553\n"
          ]
        }
      ]
    },
    {
      "cell_type": "code",
      "source": [
        "model.summary()"
      ],
      "metadata": {
        "colab": {
          "base_uri": "https://localhost:8080/"
        },
        "id": "FofrL6pVv7si",
        "outputId": "9be3a95c-0327-40d3-e35e-1ca6fbdfe17f"
      },
      "execution_count": null,
      "outputs": [
        {
          "output_type": "stream",
          "name": "stdout",
          "text": [
            "Model: \"sequential_4\"\n",
            "_________________________________________________________________\n",
            " Layer (type)                Output Shape              Param #   \n",
            "=================================================================\n",
            " conv2d_8 (Conv2D)           (None, 148, 148, 32)      896       \n",
            "                                                                 \n",
            " max_pooling2d_8 (MaxPoolin  (None, 74, 74, 32)        0         \n",
            " g2D)                                                            \n",
            "                                                                 \n",
            " dropout_12 (Dropout)        (None, 74, 74, 32)        0         \n",
            "                                                                 \n",
            " conv2d_9 (Conv2D)           (None, 72, 72, 64)        18496     \n",
            "                                                                 \n",
            " max_pooling2d_9 (MaxPoolin  (None, 36, 36, 64)        0         \n",
            " g2D)                                                            \n",
            "                                                                 \n",
            " dropout_13 (Dropout)        (None, 36, 36, 64)        0         \n",
            "                                                                 \n",
            " flatten_4 (Flatten)         (None, 82944)             0         \n",
            "                                                                 \n",
            " dense_8 (Dense)             (None, 64)                5308480   \n",
            "                                                                 \n",
            " dropout_14 (Dropout)        (None, 64)                0         \n",
            "                                                                 \n",
            " dense_9 (Dense)             (None, 1)                 65        \n",
            "                                                                 \n",
            "=================================================================\n",
            "Total params: 5327937 (20.32 MB)\n",
            "Trainable params: 5327937 (20.32 MB)\n",
            "Non-trainable params: 0 (0.00 Byte)\n",
            "_________________________________________________________________\n"
          ]
        }
      ]
    },
    {
      "cell_type": "code",
      "source": [
        "np.median(history.history['accuracy'])"
      ],
      "metadata": {
        "colab": {
          "base_uri": "https://localhost:8080/"
        },
        "id": "eHOBoeYfJ66k",
        "outputId": "48445244-0afc-4d62-da89-8bc0c39a8951"
      },
      "execution_count": null,
      "outputs": [
        {
          "output_type": "execute_result",
          "data": {
            "text/plain": [
              "0.8431618511676788"
            ]
          },
          "metadata": {},
          "execution_count": 25
        }
      ]
    },
    {
      "cell_type": "code",
      "source": [
        "np.std(history.history['loss'])"
      ],
      "metadata": {
        "colab": {
          "base_uri": "https://localhost:8080/"
        },
        "id": "QHvG4J4-Mp6u",
        "outputId": "d52fe6db-0aea-4924-a64e-b9dde039fb04"
      },
      "execution_count": null,
      "outputs": [
        {
          "output_type": "execute_result",
          "data": {
            "text/plain": [
              "0.1131275209217049"
            ]
          },
          "metadata": {},
          "execution_count": 26
        }
      ]
    },
    {
      "cell_type": "code",
      "source": [
        "train_gen = ImageDataGenerator(\n",
        "    rescale=1.0/255.0,\n",
        "    rotation_range=40,\n",
        "    width_shift_range=0.2,\n",
        "    height_shift_range=0.2,\n",
        "    shear_range=0.2,\n",
        "    zoom_range=0.2,\n",
        "    horizontal_flip=True,\n",
        "    fill_mode='nearest'\n",
        ")\n",
        "\n",
        "train_ds = train_gen.flow_from_directory(\n",
        "    '/content/drive/MyDrive/ai_integration/datasets/dino-dragon/train',\n",
        "    target_size=(150, 150),\n",
        "    batch_size=20,\n",
        "    class_mode='binary'\n",
        ")"
      ],
      "metadata": {
        "colab": {
          "base_uri": "https://localhost:8080/"
        },
        "id": "C9FyYUWdNEtE",
        "outputId": "c03ddf71-4930-4047-a235-21fe33baeeff"
      },
      "execution_count": null,
      "outputs": [
        {
          "output_type": "stream",
          "name": "stdout",
          "text": [
            "Found 1594 images belonging to 2 classes.\n"
          ]
        }
      ]
    },
    {
      "cell_type": "code",
      "source": [
        "checkpoint = keras.callbacks.ModelCheckpoint(\n",
        "    '/content/drive/MyDrive/ai_integration/models/sequential_3_{epoch:02d}_{val_accuracy:.3f}.h5',\n",
        "    save_best_only=True,\n",
        "    monitor='val_accuracy',\n",
        "    mode='max'\n",
        ")"
      ],
      "metadata": {
        "id": "DRjc-rdBNODT"
      },
      "execution_count": null,
      "outputs": []
    },
    {
      "cell_type": "code",
      "source": [
        "history = model.fit(train_ds, epochs=10, validation_data=val_ds)"
      ],
      "metadata": {
        "colab": {
          "base_uri": "https://localhost:8080/"
        },
        "id": "45nntoC1NRPa",
        "outputId": "254296e6-e295-4356-f6a3-501a5f1db72c"
      },
      "execution_count": null,
      "outputs": [
        {
          "output_type": "stream",
          "name": "stdout",
          "text": [
            "Epoch 1/10\n",
            "80/80 [==============================] - 17s 214ms/step - loss: 0.4850 - accuracy: 0.7716 - val_loss: 60.2869 - val_accuracy: 0.8096\n",
            "Epoch 2/10\n",
            "80/80 [==============================] - 18s 225ms/step - loss: 0.4757 - accuracy: 0.7673 - val_loss: 98.3217 - val_accuracy: 0.7360\n",
            "Epoch 3/10\n",
            "80/80 [==============================] - 18s 219ms/step - loss: 0.4398 - accuracy: 0.7986 - val_loss: 293.5833 - val_accuracy: 0.5660\n",
            "Epoch 4/10\n",
            "80/80 [==============================] - 19s 239ms/step - loss: 0.4450 - accuracy: 0.8049 - val_loss: 165.4324 - val_accuracy: 0.6447\n",
            "Epoch 5/10\n",
            "80/80 [==============================] - 20s 244ms/step - loss: 0.4275 - accuracy: 0.8087 - val_loss: 182.0616 - val_accuracy: 0.6345\n",
            "Epoch 6/10\n",
            "80/80 [==============================] - 18s 224ms/step - loss: 0.4148 - accuracy: 0.8118 - val_loss: 156.5409 - val_accuracy: 0.6853\n",
            "Epoch 7/10\n",
            "80/80 [==============================] - 18s 219ms/step - loss: 0.4132 - accuracy: 0.7992 - val_loss: 148.4637 - val_accuracy: 0.6827\n",
            "Epoch 8/10\n",
            "80/80 [==============================] - 19s 234ms/step - loss: 0.3839 - accuracy: 0.8319 - val_loss: 150.2838 - val_accuracy: 0.6929\n",
            "Epoch 9/10\n",
            "80/80 [==============================] - 18s 219ms/step - loss: 0.3835 - accuracy: 0.8237 - val_loss: 158.9276 - val_accuracy: 0.6904\n",
            "Epoch 10/10\n",
            "80/80 [==============================] - 18s 223ms/step - loss: 0.4041 - accuracy: 0.8143 - val_loss: 191.2014 - val_accuracy: 0.6320\n"
          ]
        }
      ]
    },
    {
      "cell_type": "code",
      "source": [
        "sum(history.history['loss'])/len(history.history['loss'])"
      ],
      "metadata": {
        "colab": {
          "base_uri": "https://localhost:8080/"
        },
        "id": "446rfgt7Rp2h",
        "outputId": "9b7332ad-e398-4c91-a1d5-365838c2cd1a"
      },
      "execution_count": null,
      "outputs": [
        {
          "output_type": "execute_result",
          "data": {
            "text/plain": [
              "0.42724254429340364"
            ]
          },
          "metadata": {},
          "execution_count": 30
        }
      ]
    },
    {
      "cell_type": "code",
      "source": [
        "sum(history.history['accuracy'][6:])/len(history.history['accuracy'][6:])"
      ],
      "metadata": {
        "colab": {
          "base_uri": "https://localhost:8080/"
        },
        "id": "YSxUEiklSEUv",
        "outputId": "9adb4755-fc7b-4eca-c4d1-891f33904dd8"
      },
      "execution_count": null,
      "outputs": [
        {
          "output_type": "execute_result",
          "data": {
            "text/plain": [
              "0.8172835558652878"
            ]
          },
          "metadata": {},
          "execution_count": 31
        }
      ]
    }
  ]
}